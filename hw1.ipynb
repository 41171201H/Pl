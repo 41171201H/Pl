{
 "cells": [
  {
   "cell_type": "code",
   "execution_count": 17,
   "id": "b9b8fd65",
   "metadata": {},
   "outputs": [
    {
     "name": "stdout",
     "output_type": "stream",
     "text": [
      "參加今年美麻及台麻比賽的人有：\n",
      "美麻: {'官承達', '劉兆翔', '張庭華', '林芷妘', '劉昱頡', '李嘉禧', '林欣儀', '羅禹倫', '陳湘婷', '劉子瑜', '唐大鵬', '曾子杰', '譚勝元', '賴沛吟', '林品希', '黃卉誼', '陳子堯', '王睿塏', '高敬詠', '潘翊丰', '陳俊宇', '劉文傑', '陳彥翔'}\n",
      "\n",
      "台麻: {'官承達', '劉兆翔', '林芷妘', '張庭華', '劉昱頡', '李嘉禧', '王廣恩', '林欣儀', '羅禹倫', '陳湘婷', '劉子瑜', '曾子杰', '譚勝元', '杜宜叡', '劉雋怡', '賴沛吟', '胡泳欣', '王睿塏', '高敬詠', '王嘉佑', '蕭嘉甫', '黃禹智', '李潁安', '潘翊丰', '陳俊宇'}\n",
      "\n",
      "所有有參加今年麻將比賽的有: {'官承達', '劉兆翔', '張庭華', '林芷妘', '劉昱頡', '李嘉禧', '王廣恩', '林欣儀', '羅禹倫', '陳湘婷', '劉子瑜', '唐大鵬', '曾子杰', '譚勝元', '杜宜叡', '劉雋怡', '賴沛吟', '林品希', '黃卉誼', '胡泳欣', '陳子堯', '王睿塏', '高敬詠', '王嘉佑', '蕭嘉甫', '黃禹智', '李潁安', '潘翊丰', '陳俊宇', '劉文傑', '陳彥翔'}\n",
      "\n",
      "今年同時參加台麻和台麻的有: {'潘翊丰', '王睿塏', '官承達', '高敬詠', '林欣儀', '劉兆翔', '羅禹倫', '張庭華', '林芷妘', '劉昱頡', '李嘉禧', '陳湘婷', '賴沛吟', '劉子瑜', '曾子杰', '陳俊宇', '譚勝元'}\n",
      "\n",
      "只有參加美麻的: {'陳子堯', '林品希', '黃卉誼', '唐大鵬', '劉文傑', '陳彥翔'}\n",
      "\n",
      "只有參加台麻的: {'杜宜叡', '王廣恩', '王嘉佑', '劉雋怡', '蕭嘉甫', '黃禹智', '李潁安', '胡泳欣'}\n"
     ]
    }
   ],
   "source": [
    "import pandas as pd\n",
    "import numpy as np\n",
    "import matplotlib.pyplot as plt\n",
    "\n",
    "A= pd.read_csv(\"maj.csv\", encoding=\"Big5\", usecols=[0])\n",
    "A= A.dropna()\n",
    "T= pd.read_csv(\"maj.csv\", encoding=\"Big5\", usecols=[1])\n",
    "\n",
    "A_set = set(A.to_numpy().flatten())\n",
    "T_set = set(T.to_numpy().flatten())\n",
    "\n",
    "print(\"參加今年美麻及台麻比賽的人有：\")\n",
    "print(\"美麻:\", A_set)\n",
    "print(\"\")\n",
    "print(\"台麻:\", T_set)\n",
    "print(\"\")\n",
    "\n",
    "union_set = A_set.union(T_set)\n",
    "print(\"所有有參加今年麻將比賽的有:\", union_set)\n",
    "print(\"\")\n",
    "\n",
    "intersection_set = A_set.intersection(T_set)\n",
    "print(\"今年同時參加台麻和台麻的有:\", intersection_set)\n",
    "print(\"\")\n",
    "\n",
    "difference_set1 = A_set.difference(T_set)  # set1 中有，set2 中没有的元素\n",
    "difference_set2 = T_set.difference(A_set)  # set2 中有，set1 中没有的元素\n",
    "print(\"只有參加美麻的:\", difference_set1)\n",
    "print(\"\")\n",
    "print(\"只有參加台麻的:\", difference_set2)\n"
   ]
  },
  {
   "cell_type": "code",
   "execution_count": null,
   "id": "6450a215",
   "metadata": {},
   "outputs": [],
   "source": []
  },
  {
   "cell_type": "code",
   "execution_count": null,
   "id": "4c3c0d1c",
   "metadata": {},
   "outputs": [],
   "source": []
  },
  {
   "cell_type": "code",
   "execution_count": null,
   "id": "791e9af5",
   "metadata": {},
   "outputs": [],
   "source": []
  },
  {
   "cell_type": "code",
   "execution_count": null,
   "id": "52129098",
   "metadata": {},
   "outputs": [],
   "source": []
  }
 ],
 "metadata": {
  "kernelspec": {
   "display_name": "Python 3 (ipykernel)",
   "language": "python",
   "name": "python3"
  },
  "language_info": {
   "codemirror_mode": {
    "name": "ipython",
    "version": 3
   },
   "file_extension": ".py",
   "mimetype": "text/x-python",
   "name": "python",
   "nbconvert_exporter": "python",
   "pygments_lexer": "ipython3",
   "version": "3.11.5"
  }
 },
 "nbformat": 4,
 "nbformat_minor": 5
}
